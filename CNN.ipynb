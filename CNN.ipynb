{
  "cells": [
    {
      "cell_type": "markdown",
      "metadata": {
        "id": "fsA2Ua6mvsGL"
      },
      "source": [
        "# Sentiment Analysis on IMDB Dataset"
      ]
    },
    {
      "cell_type": "markdown",
      "metadata": {
        "id": "0VL_vNarv1HZ"
      },
      "source": [
        "## Convolutional Neural Network"
      ]
    },
    {
      "cell_type": "markdown",
      "metadata": {
        "id": "suwEJ_iuwE4V"
      },
      "source": [
        "## Step 1:Import Required Libraries"
      ]
    },
    {
      "cell_type": "code",
      "execution_count": 1,
      "metadata": {
        "id": "8qkM1nr9vpxz"
      },
      "outputs": [],
      "source": [
        "import tensorflow as tf\n",
        "from tensorflow.keras.models import Sequential\n",
        "from tensorflow.keras.layers import Embedding, Conv1D, MaxPooling1D, GlobalMaxPooling1D, Dense, Dropout\n",
        "from tensorflow.keras.preprocessing.sequence import pad_sequences\n",
        "import numpy as np\n"
      ]
    },
    {
      "cell_type": "markdown",
      "metadata": {
        "id": "ZaSlPlWRwSh-"
      },
      "source": [
        "## Step 2: Load and Prepare the IMDb Dataset"
      ]
    },
    {
      "cell_type": "code",
      "execution_count": 2,
      "metadata": {
        "colab": {
          "base_uri": "https://localhost:8080/"
        },
        "id": "yNdnj7jbwW4F",
        "outputId": "c4e00d5a-486b-4f7e-88dd-abb9284043e4"
      },
      "outputs": [
        {
          "name": "stdout",
          "output_type": "stream",
          "text": [
            "Downloading data from https://storage.googleapis.com/tensorflow/tf-keras-datasets/imdb.npz\n",
            "17464789/17464789 [==============================] - 1s 0us/step\n"
          ]
        }
      ],
      "source": [
        "# Load the IMDB dataset from TensorFlow datasets\n",
        "(train_data, train_labels), (test_data, test_labels) = tf.keras.datasets.imdb.load_data(num_words=10000)\n",
        "\n",
        "max_length = 300\n",
        "padding_type = 'post'\n",
        "trunc_type = 'post'\n",
        "\n",
        "train_data_padded = pad_sequences(train_data, maxlen=max_length, padding=padding_type, truncating=trunc_type)\n",
        "test_data_padded = pad_sequences(test_data, maxlen=max_length, padding=padding_type, truncating=trunc_type)\n"
      ]
    },
    {
      "cell_type": "markdown",
      "metadata": {
        "id": "d7coOQO-wZah"
      },
      "source": [
        "## Step 3: Define and Build the CNN Model"
      ]
    },
    {
      "cell_type": "code",
      "execution_count": 3,
      "metadata": {
        "id": "HZKTgBwBwcyM"
      },
      "outputs": [],
      "source": [
        "# CNN Model\n",
        "cnn_model = Sequential([\n",
        "    Embedding(input_dim=10000, output_dim=64, input_length=max_length),\n",
        "    Conv1D(32, 5, activation='relu'),\n",
        "    MaxPooling1D(2),\n",
        "    GlobalMaxPooling1D(),\n",
        "    Dense(32, activation='relu'),\n",
        "    Dropout(0.7),\n",
        "    Dense(1, activation='sigmoid')\n",
        "])\n",
        "\n",
        "# CNN model compile\n",
        "cnn_model.compile(optimizer='adam', loss='binary_crossentropy', metrics=['accuracy'])\n"
      ]
    },
    {
      "cell_type": "markdown",
      "metadata": {
        "id": "WrYuRThiwfY-"
      },
      "source": [
        "## Step 4: Define Custom Callback for Accuracy Printout"
      ]
    },
    {
      "cell_type": "code",
      "execution_count": 4,
      "metadata": {
        "id": "aeqyuVe5wkPm"
      },
      "outputs": [],
      "source": [
        "# printing accuracy for each epoch\n",
        "class PrintAccuracy(tf.keras.callbacks.Callback):\n",
        "    def on_epoch_end(self, epoch, logs=None):\n",
        "        print(f\"\\nEpoch {epoch + 1} - Training Accuracy: {logs['accuracy']*100:.2f}%\")\n",
        "        test_loss, test_accuracy = self.model.evaluate(test_data_padded, np.array(test_labels), verbose=0)\n",
        "        print(f\"Epoch {epoch + 1} - Test Accuracy: {test_accuracy*100:.2f}%\")\n"
      ]
    },
    {
      "cell_type": "markdown",
      "metadata": {
        "id": "b35yu2W3woCv"
      },
      "source": [
        "## Step 5: Train the Model with Early Stopping"
      ]
    },
    {
      "cell_type": "code",
      "execution_count": 5,
      "metadata": {
        "colab": {
          "base_uri": "https://localhost:8080/"
        },
        "id": "F6dejr_JwqsO",
        "outputId": "824a1597-2f1d-4ea0-a792-574780a43540"
      },
      "outputs": [
        {
          "name": "stdout",
          "output_type": "stream",
          "text": [
            "Epoch 1/30\n",
            "625/625 [==============================] - ETA: 0s - loss: 0.5598 - accuracy: 0.6956\n",
            "Epoch 1 - Training Accuracy: 69.56%\n",
            "Epoch 1 - Test Accuracy: 84.55%\n",
            "625/625 [==============================] - 32s 49ms/step - loss: 0.5598 - accuracy: 0.6956 - val_loss: 0.3627 - val_accuracy: 0.8518\n",
            "Epoch 2/30\n",
            "625/625 [==============================] - ETA: 0s - loss: 0.3267 - accuracy: 0.8752\n",
            "Epoch 2 - Training Accuracy: 87.52%\n",
            "Epoch 2 - Test Accuracy: 87.08%\n",
            "625/625 [==============================] - 32s 51ms/step - loss: 0.3267 - accuracy: 0.8752 - val_loss: 0.2981 - val_accuracy: 0.8774\n",
            "Epoch 3/30\n",
            "625/625 [==============================] - ETA: 0s - loss: 0.1956 - accuracy: 0.9395\n",
            "Epoch 3 - Training Accuracy: 93.95%\n",
            "Epoch 3 - Test Accuracy: 87.52%\n",
            "625/625 [==============================] - 29s 47ms/step - loss: 0.1956 - accuracy: 0.9395 - val_loss: 0.2992 - val_accuracy: 0.8800\n",
            "Epoch 4/30\n",
            "625/625 [==============================] - ETA: 0s - loss: 0.1025 - accuracy: 0.9730\n",
            "Epoch 4 - Training Accuracy: 97.30%\n",
            "Epoch 4 - Test Accuracy: 87.16%\n",
            "625/625 [==============================] - 29s 47ms/step - loss: 0.1025 - accuracy: 0.9730 - val_loss: 0.3670 - val_accuracy: 0.8806\n",
            "Epoch 5/30\n",
            "625/625 [==============================] - ETA: 0s - loss: 0.0583 - accuracy: 0.9863\n",
            "Epoch 5 - Training Accuracy: 98.63%\n",
            "Epoch 5 - Test Accuracy: 86.83%\n",
            "625/625 [==============================] - 30s 49ms/step - loss: 0.0583 - accuracy: 0.9863 - val_loss: 0.4475 - val_accuracy: 0.8784\n",
            "Epoch 6/30\n",
            "625/625 [==============================] - ETA: 0s - loss: 0.0364 - accuracy: 0.9916\n",
            "Epoch 6 - Training Accuracy: 99.16%\n",
            "Epoch 6 - Test Accuracy: 87.08%\n",
            "625/625 [==============================] - 30s 48ms/step - loss: 0.0364 - accuracy: 0.9916 - val_loss: 0.5032 - val_accuracy: 0.8732\n",
            "Epoch 7/30\n",
            "625/625 [==============================] - ETA: 0s - loss: 0.0244 - accuracy: 0.9956\n",
            "Epoch 7 - Training Accuracy: 99.56%\n",
            "Epoch 7 - Test Accuracy: 86.87%\n",
            "625/625 [==============================] - 30s 49ms/step - loss: 0.0244 - accuracy: 0.9956 - val_loss: 0.5719 - val_accuracy: 0.8742\n"
          ]
        }
      ],
      "source": [
        "from tensorflow.keras.callbacks import EarlyStopping\n",
        "\n",
        "early_stopping = EarlyStopping(monitor='val_loss', patience=5, restore_best_weights=True) \n",
        "\n",
        "history = cnn_model.fit(\n",
        "    train_data_padded,\n",
        "    np.array(train_labels),\n",
        "    epochs=30, \n",
        "    validation_split=0.2,\n",
        "    callbacks=[PrintAccuracy(), early_stopping]\n",
        ")\n"
      ]
    },
    {
      "cell_type": "markdown",
      "metadata": {
        "id": "Zd2K1xKrwvAH"
      },
      "source": [
        "## Step 6: Evaluate and Print Final Test Accuracy"
      ]
    },
    {
      "cell_type": "code",
      "execution_count": 6,
      "metadata": {
        "colab": {
          "base_uri": "https://localhost:8080/"
        },
        "id": "uCcxvIoawyb9",
        "outputId": "3d73d93b-750d-45a1-ca02-052fcb10ac95"
      },
      "outputs": [
        {
          "name": "stdout",
          "output_type": "stream",
          "text": [
            "782/782 [==============================] - 6s 8ms/step - loss: 0.3028 - accuracy: 0.8708\n",
            "\n",
            "Final Test Accuracy: 87.08%\n"
          ]
        }
      ],
      "source": [
        "# Evaluate and print final test accuracy\n",
        "final_test_loss, final_test_accuracy = cnn_model.evaluate(test_data_padded, np.array(test_labels))\n",
        "print(f\"\\nFinal Test Accuracy: {final_test_accuracy*100:.2f}%\")\n"
      ]
    },
    {
      "cell_type": "markdown",
      "metadata": {
        "id": "hdHiqRsxw0Jr"
      },
      "source": [
        "## Step 7: Print Overall Final Training and Validation Accuracy"
      ]
    },
    {
      "cell_type": "code",
      "execution_count": 7,
      "metadata": {
        "colab": {
          "base_uri": "https://localhost:8080/"
        },
        "id": "LpN4Knspw3_B",
        "outputId": "d01c7e9a-43ba-4102-dd74-1ec7e724608f"
      },
      "outputs": [
        {
          "name": "stdout",
          "output_type": "stream",
          "text": [
            "Overall Final Training Accuracy: 99.56%\n",
            "Overall Final Validation Accuracy: 87.42%\n"
          ]
        }
      ],
      "source": [
        "# Print overall final training and validation accuracy\n",
        "overall_final_train_accuracy = history.history['accuracy'][-1] * 100\n",
        "overall_final_val_accuracy = history.history['val_accuracy'][-1] * 100\n",
        "print(f\"Overall Final Training Accuracy: {overall_final_train_accuracy:.2f}%\")\n",
        "print(f\"Overall Final Validation Accuracy: {overall_final_val_accuracy:.2f}%\")\n"
      ]
    },
    {
      "cell_type": "markdown",
      "metadata": {
        "id": "nWyy0vVdx0iG"
      },
      "source": [
        "## Step 8: Plot Training and Validation Metrics"
      ]
    },
    {
      "cell_type": "code",
      "execution_count": 8,
      "metadata": {
        "colab": {
          "base_uri": "https://localhost:8080/",
          "height": 410
        },
        "id": "8iP6xx6Sx4eL",
        "outputId": "88a54c06-14e5-456f-c7e2-dca15368190f"
      },
      "outputs": [
        {
          "data": {
            "image/png": "[encoded data removed]",
            "text/plain": [
              "<Figure size 1200x400 with 2 Axes>"
            ]
          },
          "metadata": {},
          "output_type": "display_data"
        }
      ],
      "source": [
        "import matplotlib.pyplot as plt\n",
        "\n",
        "# Plot training & validation accuracy values\n",
        "plt.figure(figsize=(12, 4))\n",
        "plt.subplot(1, 2, 1)\n",
        "plt.plot(history.history['accuracy'], label='Training Accuracy')\n",
        "plt.plot(history.history['val_accuracy'], label='Validation Accuracy')\n",
        "plt.title('Model Accuracy')\n",
        "plt.ylabel('Accuracy')\n",
        "plt.xlabel('Epoch')\n",
        "plt.legend(loc='upper left')\n",
        "\n",
        "# Plot training & validation loss values\n",
        "plt.subplot(1, 2, 2)\n",
        "plt.plot(history.history['loss'], label='Training Loss')\n",
        "plt.plot(history.history['val_loss'], label='Validation Loss')\n",
        "plt.title('Model Loss')\n",
        "plt.ylabel('Loss')\n",
        "plt.xlabel('Epoch')\n",
        "plt.legend(loc='upper left')\n",
        "plt.show()\n"
      ]
    }
  ],
  "metadata": {
    "colab": {
      "provenance": []
    },
    "kernelspec": {
      "display_name": "Python 3",
      "name": "python3"
    },
    "language_info": {
      "name": "python"
    }
  },
  "nbformat": 4,
  "nbformat_minor": 0
}
